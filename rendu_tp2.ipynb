{
 "cells": [
  {
   "cell_type": "code",
   "execution_count": 21,
   "id": "4e071e20",
   "metadata": {},
   "outputs": [],
   "source": [
    "import pandas as haris\n"
   ]
  },
  {
   "cell_type": "code",
   "execution_count": 22,
   "id": "77f5d0b3",
   "metadata": {},
   "outputs": [],
   "source": [
    "d_entities = haris.read_csv(\"nodes-entities.csv\",low_memory=False) # lecture nodes-entities.csv\n"
   ]
  },
  {
   "cell_type": "code",
   "execution_count": 23,
   "id": "cd49ba0d",
   "metadata": {},
   "outputs": [],
   "source": [
    "d_addresses = haris.read_csv(\"nodes-addresses.csv\", low_memory=False)# lecture nodes-addresses.csv\n"
   ]
  },
  {
   "cell_type": "code",
   "execution_count": 29,
   "id": "5664b102",
   "metadata": {},
   "outputs": [],
   "source": [
    "d_inter = haris.read_csv(\"nodes-intermediaries.csv\",low_memory=False)df # lecture nodes-intermediaries.csv"
   ]
  },
  {
   "cell_type": "code",
   "execution_count": 30,
   "id": "f80f3d54",
   "metadata": {},
   "outputs": [],
   "source": [
    "d_officers = haris.read_csv(\"nodes-officers.csv\",low_memory=False)# lecture nodes-officers.csv"
   ]
  },
  {
   "cell_type": "code",
   "execution_count": 31,
   "id": "21f634d3",
   "metadata": {},
   "outputs": [],
   "source": [
    "d_others = haris.read_csv(\"nodes-others.csv\",low_memory=False)# lecture nodes-others.csv"
   ]
  },
  {
   "cell_type": "code",
   "execution_count": 32,
   "id": "2359c724",
   "metadata": {},
   "outputs": [],
   "source": [
    "df = haris.concat([d_entities,d_addresses,d_inter,d_officers,d_others]) #concaténation des dataframes"
   ]
  },
  {
   "cell_type": "code",
   "execution_count": 33,
   "id": "605b6a75",
   "metadata": {},
   "outputs": [
    {
     "data": {
      "text/plain": [
       "Malta                                    129818\n",
       "Hong Kong                                100702\n",
       "British Virgin Islands                    75769\n",
       "China                                     72789\n",
       "Barbados                                  58010\n",
       "                                          ...  \n",
       "Australia;Japan;Singapore                     1\n",
       "Dominican Republic;Peru;United States         1\n",
       "Germany;Italy;Netherlands                     1\n",
       "Hong Kong;Malaysia;Thailand                   1\n",
       "Dominican Republic;Mexico;Spain               1\n",
       "Name: countries, Length: 4415, dtype: int64"
      ]
     },
     "execution_count": 33,
     "metadata": {},
     "output_type": "execute_result"
    }
   ],
   "source": [
    "df[\"countries\"].value_counts() #nombres de pays 4415"
   ]
  },
  {
   "cell_type": "code",
   "execution_count": 36,
   "id": "6d8fe622",
   "metadata": {},
   "outputs": [
    {
     "data": {
      "text/plain": [
       "3074"
      ]
     },
     "execution_count": 36,
     "metadata": {},
     "output_type": "execute_result"
    }
   ],
   "source": [
    "len(df[df[\"countries\"]==\"Ireland\"]) #on obtient 3074 entrées"
   ]
  },
  {
   "cell_type": "code",
   "execution_count": 39,
   "id": "5ae626c7",
   "metadata": {},
   "outputs": [
    {
     "data": {
      "text/plain": [
       "9325"
      ]
     },
     "execution_count": 39,
     "metadata": {},
     "output_type": "execute_result"
    }
   ],
   "source": [
    "len(df[df[\"name\"]==\"EL PORTADOR\"]) #on obtient 9325 entrées"
   ]
  },
  {
   "cell_type": "code",
   "execution_count": 41,
   "id": "6dda8689",
   "metadata": {},
   "outputs": [],
   "source": [
    "import seaborn as sofia"
   ]
  },
  {
   "cell_type": "code",
   "execution_count": 46,
   "id": "7bf417ab",
   "metadata": {},
   "outputs": [
    {
     "data": {
      "text/plain": [
       "<AxesSubplot:xlabel='countries', ylabel='count'>"
      ]
     },
     "execution_count": 46,
     "metadata": {},
     "output_type": "execute_result"
    },
    {
     "data": {
      "image/png": "[encoded data removed]",
      "text/plain": [
       "<Figure size 432x288 with 1 Axes>"
      ]
     },
     "metadata": {
      "needs_background": "light"
     },
     "output_type": "display_data"
    }
   ],
   "source": [
    "sofia.countplot(x=\"countries\", data=d_addresses) #nous n'avons pas une distribution normale"
   ]
  },
  {
   "cell_type": "code",
   "execution_count": 48,
   "id": "89d51512",
   "metadata": {},
   "outputs": [],
   "source": [
    "d_r = haris.read_csv(\"relationships.csv\",low_memory=False) # lecture relationships.csv"
   ]
  },
  {
   "cell_type": "code",
   "execution_count": 49,
   "id": "dd6ad78e",
   "metadata": {},
   "outputs": [],
   "source": [
    "df_merge_total = haris.concat([df,d_r]) #merge total des dataframes"
   ]
  },
  {
   "cell_type": "code",
   "execution_count": 72,
   "id": "5cbcf6a9",
   "metadata": {},
   "outputs": [
    {
     "data": {
      "text/plain": [
       "China                     32067\n",
       "Hong Kong                 27179\n",
       "United States             24248\n",
       "Barbados                  19344\n",
       "Aruba                     17512\n",
       "Taiwan                    15326\n",
       "United Kingdom            11706\n",
       "Singapore                  7149\n",
       "Russia                     5963\n",
       "British Virgin Islands     5282\n",
       "Switzerland                5113\n",
       "Jersey                     3932\n",
       "Bermuda                    3920\n",
       "Indonesia                  3412\n",
       "United Arab Emirates       3283\n",
       "Panama                     3257\n",
       "Malaysia                   3241\n",
       "Canada                     3139\n",
       "Brazil                     2979\n",
       "Cyprus                     2842\n",
       "Name: countries, dtype: int64"
      ]
     },
     "execution_count": 72,
     "metadata": {},
     "output_type": "execute_result"
    }
   ],
   "source": [
    "tmp = d_addresses[\"countries\"].value_counts()  #top 20 des pays \n",
    "tmp.head(n=20)"
   ]
  },
  {
   "cell_type": "code",
   "execution_count": 79,
   "id": "3c289985",
   "metadata": {},
   "outputs": [
    {
     "data": {
      "text/plain": [
       "Mossack Fonseca               213634\n",
       "Portcullis Trustnet            61123\n",
       "Commonwealth Trust Limited     44393\n",
       "Appleby                        24936\n",
       "Name: service_provider, dtype: int64"
      ]
     },
     "execution_count": 79,
     "metadata": {},
     "output_type": "execute_result"
    }
   ],
   "source": [
    "df_merge_total[\"service_provider\"].value_counts() # nombre services\n"
   ]
  },
  {
   "cell_type": "code",
   "execution_count": 80,
   "id": "42c3def2",
   "metadata": {},
   "outputs": [
    {
     "data": {
      "text/plain": [
       "344086"
      ]
     },
     "execution_count": 80,
     "metadata": {},
     "output_type": "execute_result"
    }
   ],
   "source": [
    "213634+61123+44393+24936"
   ]
  },
  {
   "cell_type": "code",
   "execution_count": 81,
   "id": "7bd9f14c",
   "metadata": {},
   "outputs": [
    {
     "data": {
      "text/plain": [
       "[0.6208738513046157,\n",
       " 0.17763872985242063,\n",
       " 0.12901716431357277,\n",
       " 0.0724702545293909]"
      ]
     },
     "execution_count": 81,
     "metadata": {},
     "output_type": "execute_result"
    }
   ],
   "source": [
    "[213634/344086,61123/344086,44393/344086,24936/344086]"
   ]
  },
  {
   "cell_type": "code",
   "execution_count": 82,
   "id": "d2078843",
   "metadata": {},
   "outputs": [],
   "source": [
    "dico = {'Mossasck Fonseca':0.6208738513046157,'Portcullis Trustnet':0.17763872985242063,'Commonwealth Trust Limited':0.12901716431357277,'Appleby':0.0724702545293909}"
   ]
  },
  {
   "cell_type": "code",
   "execution_count": 83,
   "id": "b97a08d0",
   "metadata": {},
   "outputs": [
    {
     "name": "stdout",
     "output_type": "stream",
     "text": [
      "{'Mossasck Fonseca': 0.6208738513046157, 'Portcullis Trustnet': 0.17763872985242063, 'Commonwealth Trust Limited': 0.12901716431357277, 'Appleby': 0.0724702545293909}\n"
     ]
    }
   ],
   "source": [
    "print(dico) # proportion service par provider"
   ]
  },
  {
   "cell_type": "code",
   "execution_count": null,
   "id": "9c8de04e",
   "metadata": {},
   "outputs": [],
   "source": []
  }
 ],
 "metadata": {
  "kernelspec": {
   "display_name": "Python 3 (ipykernel)",
   "language": "python",
   "name": "python3"
  },
  "language_info": {
   "codemirror_mode": {
    "name": "ipython",
    "version": 3
   },
   "file_extension": ".py",
   "mimetype": "text/x-python",
   "name": "python",
   "nbconvert_exporter": "python",
   "pygments_lexer": "ipython3",
   "version": "3.10.2"
  }
 },
 "nbformat": 4,
 "nbformat_minor": 5
}
